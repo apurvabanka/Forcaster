{
  "cells": [
    {
      "cell_type": "markdown",
      "metadata": {
        "id": "lV-xWyh7OCHS"
      },
      "source": [
        "# Problem Statement"
      ]
    },
    {
      "cell_type": "markdown",
      "metadata": {
        "id": "0vT4H1LDOPTe"
      },
      "source": [
        "In this project we want to predict the order patterns for various restaurants using time-series forecasting. We want to explore different time-series forecasting models to understand and analyse the order patterns for specific SKUs for a particular restaurant and determine the perfect model for the use case.\n",
        "\n"
      ]
    },
    {
      "cell_type": "markdown",
      "metadata": {
        "id": "kKltxO1EOVnR"
      },
      "source": [
        "# Why is it crucial?"
      ]
    },
    {
      "cell_type": "markdown",
      "metadata": {
        "id": "3tUDDcp7ObUU"
      },
      "source": [
        "The models can help figure out patterns based on order volume, weather conditions, order type etc. which can then help in making better business decisions and rectifying flaws is any. Furthermore, we want to leverage recommendation system to enhance the user experience.\n",
        "\n"
      ]
    },
    {
      "cell_type": "markdown",
      "metadata": {
        "id": "pxl-T78fNhOB"
      },
      "source": [
        "# Data Retrival - Importing the Dataset Using URL\n"
      ]
    },
    {
      "cell_type": "code",
      "execution_count": 1,
      "metadata": {
        "colab": {
          "base_uri": "https://localhost:8080/"
        },
        "id": "h3jB8tjrNBfP",
        "outputId": "4fbdc1a5-fcd1-4715-bd11-9633fa76c076"
      },
      "outputs": [
        {
          "name": "stderr",
          "output_type": "stream",
          "text": [
            "/Users/rohitbanka/Desktop/DIC_Project/Forcaster/env/lib/python3.9/site-packages/urllib3/__init__.py:35: NotOpenSSLWarning: urllib3 v2 only supports OpenSSL 1.1.1+, currently the 'ssl' module is compiled with 'LibreSSL 2.8.3'. See: https://github.com/urllib3/urllib3/issues/3020\n",
            "  warnings.warn(\n"
          ]
        },
        {
          "name": "stdout",
          "output_type": "stream",
          "text": [
            "Dataset URL: https://www.kaggle.com/datasets/gauravmalik26/food-delivery-dataset\n",
            "License(s): other\n",
            "Downloading food-delivery-dataset.zip to /Users/rohitbanka/Desktop/DIC_Project/Forcaster/forecaster-analytics/Apurva\n"
          ]
        },
        {
          "name": "stderr",
          "output_type": "stream",
          "text": [
            "100%|██████████| 1.95M/1.95M [00:00<00:00, 5.61MB/s]\n"
          ]
        },
        {
          "name": "stdout",
          "output_type": "stream",
          "text": [
            "\n",
            "Extracted files: ['test.csv', 'train.csv', 'Sample_Submission.csv']\n",
            "        ID Delivery_person_ID Delivery_person_Age Delivery_person_Ratings  \\\n",
            "0  0x4607     INDORES13DEL02                   37                     4.9   \n",
            "1  0xb379     BANGRES18DEL02                   34                     4.5   \n",
            "2  0x5d6d     BANGRES19DEL01                   23                     4.4   \n",
            "3  0x7a6a    COIMBRES13DEL02                   38                     4.7   \n",
            "4  0x70a2     CHENRES12DEL01                   32                     4.6   \n",
            "\n",
            "   Restaurant_latitude  Restaurant_longitude  Delivery_location_latitude  \\\n",
            "0            22.745049             75.892471                   22.765049   \n",
            "1            12.913041             77.683237                   13.043041   \n",
            "2            12.914264             77.678400                   12.924264   \n",
            "3            11.003669             76.976494                   11.053669   \n",
            "4            12.972793             80.249982                   13.012793   \n",
            "\n",
            "   Delivery_location_longitude  Order_Date Time_Orderd Time_Order_picked  \\\n",
            "0                    75.912471  19-03-2022    11:30:00          11:45:00   \n",
            "1                    77.813237  25-03-2022    19:45:00          19:50:00   \n",
            "2                    77.688400  19-03-2022    08:30:00          08:45:00   \n",
            "3                    77.026494  05-04-2022    18:00:00          18:10:00   \n",
            "4                    80.289982  26-03-2022    13:30:00          13:45:00   \n",
            "\n",
            "       Weatherconditions Road_traffic_density  Vehicle_condition  \\\n",
            "0       conditions Sunny                High                   2   \n",
            "1      conditions Stormy                 Jam                   2   \n",
            "2  conditions Sandstorms                 Low                   0   \n",
            "3       conditions Sunny              Medium                   0   \n",
            "4      conditions Cloudy                High                   1   \n",
            "\n",
            "  Type_of_order Type_of_vehicle multiple_deliveries Festival            City  \\\n",
            "0        Snack      motorcycle                    0      No           Urban    \n",
            "1        Snack         scooter                    1      No   Metropolitian    \n",
            "2       Drinks      motorcycle                    1      No           Urban    \n",
            "3       Buffet      motorcycle                    1      No   Metropolitian    \n",
            "4        Snack         scooter                    1      No   Metropolitian    \n",
            "\n",
            "  Time_taken(min)  \n",
            "0        (min) 24  \n",
            "1        (min) 33  \n",
            "2        (min) 26  \n",
            "3        (min) 21  \n",
            "4        (min) 30  \n"
          ]
        }
      ],
      "source": [
        "import os\n",
        "import zipfile\n",
        "import numpy as np\n",
        "import pandas as pd\n",
        "import matplotlib.pyplot  as plt\n",
        "\n",
        "\n",
        "# Step 1: Download the dataset from Kaggle\n",
        "os.system('kaggle datasets download -d gauravmalik26/food-delivery-dataset')\n",
        "\n",
        "# Step 2: Extract the ZIP file\n",
        "with zipfile.ZipFile('food-delivery-dataset.zip', 'r') as zip_ref:\n",
        "    zip_ref.extractall('food_delivery_dataset')\n",
        "\n",
        "# Step 3: List the files in the extracted directory to find the correct CSV file name\n",
        "extracted_dir = 'food_delivery_dataset'\n",
        "files = os.listdir(extracted_dir)\n",
        "print(\"Extracted files:\", files)\n",
        "\n",
        "# Step 4: Use the correct file from the extracted list\n",
        "csv_file_path = f\"{extracted_dir}/train.csv\"  # Replace with 'train.csv' since it's one of the files\n",
        "\n",
        "# Step 5: Create a DataFrame from the extracted CSV file\n",
        "df = pd.read_csv(csv_file_path)\n",
        "\n",
        "# Display the first few rows of the DataFrame\n",
        "print(df.head())\n"
      ]
    },
    {
      "cell_type": "markdown",
      "metadata": {
        "id": "cN44N5EpPWrp"
      },
      "source": [
        "# Data Cleaning"
      ]
    },
    {
      "cell_type": "markdown",
      "metadata": {
        "id": "TTAW7160Pa6F"
      },
      "source": [
        "The data cleaning steps that we have followed are -\n",
        "\n",
        "1. Replacing \"Nan\" text with actual Nan values and replacing values accordingly. (Replacing values is different for different columns)\n",
        "2. Removing duplicates\n",
        "3. Replacing Nan in Delivery Person Age with an average value for the complete dataset.\n",
        "4. Replacing Nan in Delivery Person Rating with an average value for the complete dataset and rounded to single decimal place.\n",
        "5. Replace Nan values for Multiple Deliveries with the most frequent values. The values are 0,1,2,3\n",
        "6. Replace the value with the average of the difference. You need to subtract the average time difference from the Time Packed.\n",
        "7. Calculate the range of values for Latitude and Longitude. Replace the 0 values.\n",
        "8. Replace each column with a random value from the range. Make sure to add float values with 4 decimal points.\n",
        "9. Convert the data type accordingly (String to Float for Rating, Latitide and Longitude, String to Int for multiple deliveries, Removed (min) prefix from Time Taken)\n",
        "10. Handled Outliers for various columns"
      ]
    },
    {
      "cell_type": "code",
      "execution_count": 2,
      "metadata": {
        "colab": {
          "base_uri": "https://localhost:8080/"
        },
        "id": "52yWiPy9Su_M",
        "outputId": "5e1ee3f1-4306-41e1-fa0b-6f700800ba40"
      },
      "outputs": [
        {
          "name": "stdout",
          "output_type": "stream",
          "text": [
            "Finding SUM of Nan values\n",
            "ID                                0\n",
            "Delivery_person_ID                0\n",
            "Delivery_person_Age            1854\n",
            "Delivery_person_Ratings        1908\n",
            "Restaurant_latitude               0\n",
            "Restaurant_longitude              0\n",
            "Delivery_location_latitude        0\n",
            "Delivery_location_longitude       0\n",
            "Order_Date                        0\n",
            "Time_Orderd                    1731\n",
            "Time_Order_picked                 0\n",
            "Weatherconditions               616\n",
            "Road_traffic_density            601\n",
            "Vehicle_condition                 0\n",
            "Type_of_order                     0\n",
            "Type_of_vehicle                   0\n",
            "multiple_deliveries             993\n",
            "Festival                        228\n",
            "City                           1200\n",
            "Time_taken(min)                   0\n",
            "dtype: int64\n",
            "------------------------\n",
            "Finding SUM of 0 values\n",
            "ID                                 0\n",
            "Delivery_person_ID                 0\n",
            "Delivery_person_Age                0\n",
            "Delivery_person_Ratings            0\n",
            "Restaurant_latitude             3640\n",
            "Restaurant_longitude            3640\n",
            "Delivery_location_latitude         0\n",
            "Delivery_location_longitude        0\n",
            "Order_Date                         0\n",
            "Time_Orderd                        0\n",
            "Time_Order_picked                  0\n",
            "Weatherconditions                  0\n",
            "Road_traffic_density               0\n",
            "Vehicle_condition              15009\n",
            "Type_of_order                      0\n",
            "Type_of_vehicle                    0\n",
            "multiple_deliveries                0\n",
            "Festival                           0\n",
            "City                               0\n",
            "Time_taken(min)                    0\n",
            "dtype: int64\n"
          ]
        }
      ],
      "source": [
        "# Replacing 'NaN' with NaN.\n",
        "df = df.replace('NaN', np.nan, regex=True)\n",
        "\n",
        "print(\"Finding SUM of Nan values\")\n",
        "# Finding the count of NaN for each column\n",
        "print(df.isna().sum())\n",
        "print(\"------------------------\")\n",
        "print(\"Finding SUM of 0 values\")\n",
        "# Finding columns with count as 0.\n",
        "print((df == 0).sum())"
      ]
    },
    {
      "cell_type": "code",
      "execution_count": 3,
      "metadata": {
        "colab": {
          "base_uri": "https://localhost:8080/"
        },
        "id": "X6XOOWa2SMGf",
        "outputId": "e63fd1ec-df26-46c1-844f-0dfe51fe728c"
      },
      "outputs": [
        {
          "name": "stdout",
          "output_type": "stream",
          "text": [
            "       Restaurant_latitude  Restaurant_longitude  Delivery_location_latitude  \\\n",
            "0                22.745049             75.892471                   22.765049   \n",
            "1                12.913041             77.683237                   13.043041   \n",
            "2                12.914264             77.678400                   12.924264   \n",
            "3                11.003669             76.976494                   11.053669   \n",
            "4                12.972793             80.249982                   13.012793   \n",
            "...                    ...                   ...                         ...   \n",
            "45588            26.902328             75.794257                   26.912328   \n",
            "45589            18.135600             74.853900                    0.070000   \n",
            "45590            13.022394             80.242439                   13.052394   \n",
            "45591            11.001753             76.986241                   11.041753   \n",
            "45592            23.351058             85.325731                   23.431058   \n",
            "\n",
            "       Delivery_location_longitude  \n",
            "0                        75.912471  \n",
            "1                        77.813237  \n",
            "2                        77.688400  \n",
            "3                        77.026494  \n",
            "4                        80.289982  \n",
            "...                            ...  \n",
            "45588                    75.804257  \n",
            "45589                     0.070000  \n",
            "45590                    80.272439  \n",
            "45591                    77.026241  \n",
            "45592                    85.405731  \n",
            "\n",
            "[45593 rows x 4 columns]\n"
          ]
        }
      ],
      "source": [
        "threshold = 0.01\n",
        "\n",
        "# Task 1: Identify the valid range for Restaurant Latitude and Longitude\n",
        "valid_restaurant_latitude = df[df['Restaurant_latitude'] > threshold]['Restaurant_latitude']\n",
        "valid_restaurant_longitude = df[df['Restaurant_longitude'] > threshold]['Restaurant_longitude']\n",
        "\n",
        "# Task 2: Identify the valid range for Delivery Latitude and Longitude\n",
        "valid_delivery_latitude = df[df['Delivery_location_latitude'] > threshold]['Delivery_location_latitude']\n",
        "valid_delivery_longitude = df[df['Delivery_location_longitude'] > threshold]['Delivery_location_longitude']\n",
        "\n",
        "# Task 3: Calculate the min and max for each of the valid columns\n",
        "min_rest_lat, max_rest_lat = valid_restaurant_latitude.min(), valid_restaurant_latitude.max()\n",
        "min_rest_long, max_rest_long = valid_restaurant_longitude.min(), valid_restaurant_longitude.max()\n",
        "min_del_lat, max_del_lat = valid_delivery_latitude.min(), valid_delivery_latitude.max()\n",
        "min_del_long, max_del_long = valid_delivery_longitude.min(), valid_delivery_longitude.max()\n",
        "\n",
        "# Task 4: Replace zero or near-zero values with random values from the respective range\n",
        "df['Restaurant_latitude'] = df['Restaurant_latitude'].apply(\n",
        "    lambda x: round(np.random.uniform(min_rest_lat, max_rest_lat), 4) if x <= threshold else x\n",
        ")\n",
        "df['Restaurant_longitude'] = df['Restaurant_longitude'].apply(\n",
        "    lambda x: round(np.random.uniform(min_rest_long, max_rest_long), 4) if x <= threshold else x\n",
        ")\n",
        "df['Delivery_location_latitude'] = df['Delivery_location_latitude'].apply(\n",
        "    lambda x: round(np.random.uniform(min_del_lat, max_del_lat), 4) if x <= threshold else x\n",
        ")\n",
        "df['Delivery_location_longitude'] = df['Delivery_location_longitude'].apply(\n",
        "    lambda x: round(np.random.uniform(min_del_long, max_del_long), 4) if x <= threshold else x\n",
        ")\n",
        "\n",
        "# Display the updated DataFrame\n",
        "print(df[['Restaurant_latitude', 'Restaurant_longitude', 'Delivery_location_latitude', 'Delivery_location_longitude']])"
      ]
    },
    {
      "cell_type": "code",
      "execution_count": 4,
      "metadata": {
        "colab": {
          "base_uri": "https://localhost:8080/"
        },
        "id": "Ctgy0NUjSW8o",
        "outputId": "3fd82d06-8575-4635-8e35-35a8cca6b645"
      },
      "outputs": [
        {
          "name": "stderr",
          "output_type": "stream",
          "text": [
            "/var/folders/2t/gftqwtk579jcc7_0379k_f900000gn/T/ipykernel_79690/92946802.py:1: UserWarning: Could not infer format, so each element will be parsed individually, falling back to `dateutil`. To ensure parsing is consistent and as-expected, please specify a format.\n",
            "  df['Time_Orderd'] = pd.to_datetime(df['Time_Orderd'], errors='coerce')\n",
            "/var/folders/2t/gftqwtk579jcc7_0379k_f900000gn/T/ipykernel_79690/92946802.py:2: UserWarning: Could not infer format, so each element will be parsed individually, falling back to `dateutil`. To ensure parsing is consistent and as-expected, please specify a format.\n",
            "  df['Time_Order_picked'] = pd.to_datetime(df['Time_Order_picked'], errors='coerce')\n"
          ]
        },
        {
          "name": "stdout",
          "output_type": "stream",
          "text": [
            "              Time_Orderd   Time_Order_picked\n",
            "0     2024-12-01 11:30:00 2024-12-01 11:45:00\n",
            "1     2024-12-01 19:45:00 2024-12-01 19:50:00\n",
            "2     2024-12-01 08:30:00 2024-12-01 08:45:00\n",
            "3     2024-12-01 18:00:00 2024-12-01 18:10:00\n",
            "4     2024-12-01 13:30:00 2024-12-01 13:45:00\n",
            "...                   ...                 ...\n",
            "45588 2024-12-01 11:35:00 2024-12-01 11:45:00\n",
            "45589 2024-12-01 19:55:00 2024-12-01 20:10:00\n",
            "45590 2024-12-01 23:50:00 2024-12-01 00:05:00\n",
            "45591 2024-12-01 13:35:00 2024-12-01 13:40:00\n",
            "45592 2024-12-01 17:10:00 2024-12-01 17:15:00\n",
            "\n",
            "[45593 rows x 2 columns]\n"
          ]
        }
      ],
      "source": [
        "df['Time_Orderd'] = pd.to_datetime(df['Time_Orderd'], errors='coerce')\n",
        "df['Time_Order_picked'] = pd.to_datetime(df['Time_Order_picked'], errors='coerce')\n",
        "\n",
        "# Step 1: Calculate the time difference where \"Time Ordered\" is not NULL\n",
        "df['Time_Difference'] = df['Time_Order_picked'] - df['Time_Orderd']\n",
        "\n",
        "# Step 2: Calculate the average time difference (exclude rows where Time Ordered is NULL)\n",
        "average_time_diff = df['Time_Difference'].mean()\n",
        "\n",
        "# Step 3: Replace NULL values in \"Time Ordered\" by subtracting the average time difference from \"Time Packed\"\n",
        "df['Time_Orderd'] = df.apply(\n",
        "    lambda row: row['Time_Order_picked'] - average_time_diff if pd.isnull(row['Time_Orderd']) else row['Time_Orderd'],\n",
        "    axis=1\n",
        ")\n",
        "\n",
        "# Drop the Time_Difference column if it's no longer needed\n",
        "df.drop('Time_Difference', axis=1, inplace=True)\n",
        "\n",
        "# Display the updated DataFrame\n",
        "print(df[['Time_Orderd', 'Time_Order_picked']])"
      ]
    },
    {
      "cell_type": "code",
      "execution_count": 5,
      "metadata": {
        "colab": {
          "base_uri": "https://localhost:8080/"
        },
        "id": "W4P7uPH1SbZ0",
        "outputId": "7e57159e-6bfd-4617-9bc1-6f17f8783347"
      },
      "outputs": [
        {
          "name": "stdout",
          "output_type": "stream",
          "text": [
            "        ID Delivery_person_ID  Delivery_person_Age  Delivery_person_Ratings  \\\n",
            "0  0x4607     INDORES13DEL02                  37.0                      4.9   \n",
            "1  0xb379     BANGRES18DEL02                  34.0                      4.5   \n",
            "2  0x5d6d     BANGRES19DEL01                  23.0                      4.4   \n",
            "3  0x7a6a    COIMBRES13DEL02                  38.0                      4.7   \n",
            "4  0x70a2     CHENRES12DEL01                  32.0                      4.6   \n",
            "\n",
            "   Restaurant_latitude  Restaurant_longitude  Delivery_location_latitude  \\\n",
            "0            22.745049             75.892471                   22.765049   \n",
            "1            12.913041             77.683237                   13.043041   \n",
            "2            12.914264             77.678400                   12.924264   \n",
            "3            11.003669             76.976494                   11.053669   \n",
            "4            12.972793             80.249982                   13.012793   \n",
            "\n",
            "   Delivery_location_longitude  Order_Date         Time_Orderd  \\\n",
            "0                    75.912471  19-03-2022 2024-12-01 11:30:00   \n",
            "1                    77.813237  25-03-2022 2024-12-01 19:45:00   \n",
            "2                    77.688400  19-03-2022 2024-12-01 08:30:00   \n",
            "3                    77.026494  05-04-2022 2024-12-01 18:00:00   \n",
            "4                    80.289982  26-03-2022 2024-12-01 13:30:00   \n",
            "\n",
            "    Time_Order_picked      Weatherconditions Road_traffic_density  \\\n",
            "0 2024-12-01 11:45:00       conditions Sunny                High    \n",
            "1 2024-12-01 19:50:00      conditions Stormy                 Jam    \n",
            "2 2024-12-01 08:45:00  conditions Sandstorms                 Low    \n",
            "3 2024-12-01 18:10:00       conditions Sunny              Medium    \n",
            "4 2024-12-01 13:45:00      conditions Cloudy                High    \n",
            "\n",
            "   Vehicle_condition Type_of_order Type_of_vehicle  multiple_deliveries  \\\n",
            "0                  2        Snack      motorcycle                   0.0   \n",
            "1                  2        Snack         scooter                   1.0   \n",
            "2                  0       Drinks      motorcycle                   1.0   \n",
            "3                  0       Buffet      motorcycle                   1.0   \n",
            "4                  1        Snack         scooter                   1.0   \n",
            "\n",
            "  Festival            City Time_taken(min)  \n",
            "0      No           Urban         (min) 24  \n",
            "1      No   Metropolitian         (min) 33  \n",
            "2      No           Urban         (min) 26  \n",
            "3      No   Metropolitian         (min) 21  \n",
            "4      No   Metropolitian         (min) 30  \n"
          ]
        }
      ],
      "source": [
        "#Convert 'Delivery_person_Age' to numeric\n",
        "df['Delivery_person_Age'] = pd.to_numeric(df['Delivery_person_Age'], errors='coerce')\n",
        "\n",
        "#Replace null values in 'Delivery_person_Age' with the average\n",
        "Average_age = df['Delivery_person_Age'].mean()\n",
        "df['Delivery_person_Age'] = df['Delivery_person_Age'].fillna(int(Average_age))\n",
        "\n",
        "#Convert 'Delivery_person_Ratings' to numeric\n",
        "df['Delivery_person_Ratings'] = pd.to_numeric(df['Delivery_person_Ratings'], errors='coerce')\n",
        "\n",
        "#Replace null values in 'Delivery_person_Ratings' with average(1 decimal point)\n",
        "Average_rating = df['Delivery_person_Ratings'].mean()\n",
        "df['Delivery_person_Ratings'] = df['Delivery_person_Ratings'].fillna(round(Average_rating, 1))\n",
        "\n",
        "#Convert 'Delivery_person_Ratings' to numeric\n",
        "df['multiple_deliveries'] = pd.to_numeric(df['multiple_deliveries'], errors='coerce')\n",
        "\n",
        "#Replace null values with the most frequent value which is the mode of the data\n",
        "most_frequent_value = df['multiple_deliveries'].mode()[0]\n",
        "df['multiple_deliveries'] = df['multiple_deliveries'].fillna(most_frequent_value)\n",
        "\n",
        "print(df.head())"
      ]
    },
    {
      "cell_type": "code",
      "execution_count": 7,
      "metadata": {},
      "outputs": [],
      "source": [
        "df.to_csv(\"clean_data.csv\")"
      ]
    },
    {
      "cell_type": "markdown",
      "metadata": {
        "id": "gJYmADrGTt8q"
      },
      "source": [
        "# Hypothesis 1.1 When the time taken for a delivery increaese the average rating decreases."
      ]
    },
    {
      "cell_type": "markdown",
      "metadata": {
        "id": "hloudwbTUJyR"
      },
      "source": [
        "Here are are assuming that as the delivery time increases, the rating decreases."
      ]
    },
    {
      "cell_type": "code",
      "execution_count": 39,
      "metadata": {
        "colab": {
          "base_uri": "https://localhost:8080/",
          "height": 725
        },
        "id": "dNI1q9KUTAoB",
        "outputId": "65dc3028-19bb-4e25-c379-3fd8c8fc8283"
      },
      "outputs": [
        {
          "name": "stdout",
          "output_type": "stream",
          "text": [
            "Time_taken(min)    54\n",
            "dtype: int64\n",
            "Time_taken(min)    10\n",
            "dtype: int64\n"
          ]
        },
        {
          "name": "stderr",
          "output_type": "stream",
          "text": [
            "<ipython-input-39-c1e6c1bc46e9>:18: FutureWarning: The default of observed=False is deprecated and will be changed to True in a future version of pandas. Pass observed=False to retain current behavior or observed=True to adopt the future default and silence this warning.\n",
            "  average_rating_per_interval = time_taken.groupby('interval')['rating'].mean() - 4\n"
          ]
        },
        {
          "data": {
            "text/plain": [
              "<Axes: xlabel='interval'>"
            ]
          },
          "execution_count": 39,
          "metadata": {},
          "output_type": "execute_result"
        },
        {
          "data": {
            "image/png": "[encoded data removed]",
            "text/plain": [
              "<Figure size 1200x600 with 2 Axes>"
            ]
          },
          "metadata": {},
          "output_type": "display_data"
        }
      ],
      "source": [
        "time_taken = df['Time_taken(min)'].str.split(\" \").str[1]\n",
        "\n",
        "time_taken = pd.DataFrame(time_taken)\n",
        "\n",
        "time_taken[\"Time_taken(min)\"] = time_taken[\"Time_taken(min)\"].astype(int)\n",
        "\n",
        "print(time_taken.max())\n",
        "print(time_taken.min())\n",
        "\n",
        "bins = [10, 20, 30, 40, 50 , 60]\n",
        "\n",
        "time_taken['interval'] = pd.cut(time_taken[\"Time_taken(min)\"], bins)\n",
        "\n",
        "bin_count = time_taken['interval'].value_counts().sort_index()\n",
        "\n",
        "time_taken['rating'] = df['Delivery_person_Ratings'].astype(float)\n",
        "\n",
        "average_rating_per_interval = time_taken.groupby('interval')['rating'].mean() - 4\n",
        "\n",
        "plt.figure(figsize=(12, 6))\n",
        "plt.subplot(1, 2, 1)\n",
        "bin_count.plot(kind='bar')\n",
        "plt.subplot(1, 2, 2)\n",
        "average_rating_per_interval.plot(kind='bar', color='orange')"
      ]
    },
    {
      "cell_type": "markdown",
      "metadata": {
        "id": "ssaG5qnCURJv"
      },
      "source": [
        "As we can see on the left is the number of orders for different time intervals. As the time increases (in the right), we see the ratings gradually decrease."
      ]
    },
    {
      "cell_type": "markdown",
      "metadata": {
        "id": "_1Swl6azUp_3"
      },
      "source": [
        "# Hypothesis 1.2 As the distance increases, the delivery time increases"
      ]
    },
    {
      "cell_type": "markdown",
      "metadata": {
        "id": "SBEkA3N3VUbx"
      },
      "source": [
        "As the distance between the restaurant and the delivery place increases, time taken to deliver the order also increases."
      ]
    },
    {
      "cell_type": "code",
      "execution_count": 40,
      "metadata": {
        "colab": {
          "base_uri": "https://localhost:8080/",
          "height": 1000
        },
        "id": "lzgduQzfUonY",
        "outputId": "be7b9b01-0a25-40f7-f105-95120d51f5a6"
      },
      "outputs": [
        {
          "name": "stderr",
          "output_type": "stream",
          "text": [
            "<ipython-input-40-49795bb7a68b>:12: SettingWithCopyWarning: \n",
            "A value is trying to be set on a copy of a slice from a DataFrame.\n",
            "Try using .loc[row_indexer,col_indexer] = value instead\n",
            "\n",
            "See the caveats in the documentation: https://pandas.pydata.org/pandas-docs/stable/user_guide/indexing.html#returning-a-view-versus-a-copy\n",
            "  delivery_time_vs_distance['Distance_km'] = delivery_time_vs_distance.apply(lambda row: haversine(\n",
            "<ipython-input-40-49795bb7a68b>:19: SettingWithCopyWarning: \n",
            "A value is trying to be set on a copy of a slice from a DataFrame.\n",
            "Try using .loc[row_indexer,col_indexer] = value instead\n",
            "\n",
            "See the caveats in the documentation: https://pandas.pydata.org/pandas-docs/stable/user_guide/indexing.html#returning-a-view-versus-a-copy\n",
            "  delivery_time_vs_distance['time_taken'] = df['Time_taken(min)'].str.split(\" \").str[1]\n",
            "<ipython-input-40-49795bb7a68b>:25: SettingWithCopyWarning: \n",
            "A value is trying to be set on a copy of a slice from a DataFrame.\n",
            "Try using .loc[row_indexer,col_indexer] = value instead\n",
            "\n",
            "See the caveats in the documentation: https://pandas.pydata.org/pandas-docs/stable/user_guide/indexing.html#returning-a-view-versus-a-copy\n",
            "  df_dropped['Time_Order_picked'] = pd.to_datetime(df_dropped['Time_Order_picked'])\n",
            "<ipython-input-40-49795bb7a68b>:26: SettingWithCopyWarning: \n",
            "A value is trying to be set on a copy of a slice from a DataFrame.\n",
            "Try using .loc[row_indexer,col_indexer] = value instead\n",
            "\n",
            "See the caveats in the documentation: https://pandas.pydata.org/pandas-docs/stable/user_guide/indexing.html#returning-a-view-versus-a-copy\n",
            "  df_dropped['Time_Orderd'] = pd.to_datetime(df_dropped['Time_Orderd'])\n",
            "<ipython-input-40-49795bb7a68b>:31: SettingWithCopyWarning: \n",
            "A value is trying to be set on a copy of a slice from a DataFrame.\n",
            "Try using .loc[row_indexer,col_indexer] = value instead\n",
            "\n",
            "See the caveats in the documentation: https://pandas.pydata.org/pandas-docs/stable/user_guide/indexing.html#returning-a-view-versus-a-copy\n",
            "  delivery_time_vs_distance[\"time_taken\"] = delivery_time_vs_distance[\"time_taken\"].astype(float)\n",
            "<ipython-input-40-49795bb7a68b>:33: SettingWithCopyWarning: \n",
            "A value is trying to be set on a copy of a slice from a DataFrame.\n",
            "Try using .loc[row_indexer,col_indexer] = value instead\n",
            "\n",
            "See the caveats in the documentation: https://pandas.pydata.org/pandas-docs/stable/user_guide/indexing.html#returning-a-view-versus-a-copy\n",
            "  delivery_time_vs_distance[\"time_taken\"] = delivery_time_vs_distance[\"time_taken\"]\n",
            "<ipython-input-40-49795bb7a68b>:35: SettingWithCopyWarning: \n",
            "A value is trying to be set on a copy of a slice from a DataFrame.\n",
            "Try using .loc[row_indexer,col_indexer] = value instead\n",
            "\n",
            "See the caveats in the documentation: https://pandas.pydata.org/pandas-docs/stable/user_guide/indexing.html#returning-a-view-versus-a-copy\n",
            "  delivery_time_vs_distance['interval'] = pd.cut(delivery_time_vs_distance[\"time_taken\"], bins)\n",
            "<ipython-input-40-49795bb7a68b>:37: FutureWarning: The default of observed=False is deprecated and will be changed to True in a future version of pandas. Pass observed=False to retain current behavior or observed=True to adopt the future default and silence this warning.\n",
            "  average_distance_per_interval = delivery_time_vs_distance.groupby('interval')['Distance_km'].mean()\n"
          ]
        },
        {
          "data": {
            "text/plain": [
              "<Axes: xlabel='interval'>"
            ]
          },
          "execution_count": 40,
          "metadata": {},
          "output_type": "execute_result"
        },
        {
          "data": {
            "image/png": "[encoded data removed]",
            "text/plain": [
              "<Figure size 640x480 with 1 Axes>"
            ]
          },
          "metadata": {},
          "output_type": "display_data"
        }
      ],
      "source": [
        "def haversine(lat1, lon1, lat2, lon2):\n",
        "    lat1, lon1, lat2, lon2 = map(np.radians, [lat1, lon1, lat2, lon2])\n",
        "\n",
        "    dlon = lon2 - lon1\n",
        "    dlat = lat2 - lat1\n",
        "    a = np.sin(dlat/2)**2 + np.cos(lat1) * np.cos(lat2) * np.sin(dlon/2)**2\n",
        "    c = 2 * np.arcsin(np.sqrt(a))\n",
        "    r = 6371\n",
        "    return c * r\n",
        "\n",
        "delivery_time_vs_distance = df[['Restaurant_latitude','Restaurant_longitude', 'Delivery_location_latitude','Delivery_location_longitude']]\n",
        "delivery_time_vs_distance['Distance_km'] = delivery_time_vs_distance.apply(lambda row: haversine(\n",
        "    row['Restaurant_latitude'],\n",
        "    row['Restaurant_longitude'],\n",
        "    row['Delivery_location_latitude'],\n",
        "    row['Delivery_location_longitude']\n",
        "), axis=1)\n",
        "\n",
        "delivery_time_vs_distance['time_taken'] = df['Time_taken(min)'].str.split(\" \").str[1]\n",
        "\n",
        "df_replaced = df.replace('NaN', np.nan, regex=True)\n",
        "\n",
        "df_dropped = df_replaced.dropna()\n",
        "\n",
        "df_dropped['Time_Order_picked'] = pd.to_datetime(df_dropped['Time_Order_picked'])\n",
        "df_dropped['Time_Orderd'] = pd.to_datetime(df_dropped['Time_Orderd'])\n",
        "\n",
        "\n",
        "# result = (df_dropped['Time_Order_picked'] - df_dropped['Time_Orderd']).dt.total_seconds() / 60\n",
        "\n",
        "delivery_time_vs_distance[\"time_taken\"] = delivery_time_vs_distance[\"time_taken\"].astype(float)\n",
        "\n",
        "delivery_time_vs_distance[\"time_taken\"] = delivery_time_vs_distance[\"time_taken\"]\n",
        "\n",
        "delivery_time_vs_distance['interval'] = pd.cut(delivery_time_vs_distance[\"time_taken\"], bins)\n",
        "\n",
        "average_distance_per_interval = delivery_time_vs_distance.groupby('interval')['Distance_km'].mean()\n",
        "\n",
        "\n",
        "average_distance_per_interval.plot(kind='bar')\n",
        "\n"
      ]
    }
  ],
  "metadata": {
    "colab": {
      "provenance": []
    },
    "kernelspec": {
      "display_name": "Python 3",
      "name": "python3"
    },
    "language_info": {
      "codemirror_mode": {
        "name": "ipython",
        "version": 3
      },
      "file_extension": ".py",
      "mimetype": "text/x-python",
      "name": "python",
      "nbconvert_exporter": "python",
      "pygments_lexer": "ipython3",
      "version": "3.9.6"
    }
  },
  "nbformat": 4,
  "nbformat_minor": 0
}
