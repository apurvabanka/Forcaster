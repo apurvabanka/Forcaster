{
 "cells": [
  {
   "cell_type": "code",
   "execution_count": 5,
   "metadata": {},
   "outputs": [],
   "source": [
    "import pandas as pd\n",
    "\n",
    "extracted_dir = 'food_delivery_dataset'\n",
    "csv_file_path = f\"{extracted_dir}/train.csv\"\n",
    "df = pd.read_csv(csv_file_path)\n",
    "\n",
    "#Convert 'Delivery_person_Age' to numeric\n",
    "df['Delivery_person_Age'] = pd.to_numeric(df['Delivery_person_Age'], errors='coerce')\n",
    "\n",
    "#Replace null values in 'Delivery_person_Age' with the average\n",
    "Average_age = df['Delivery_person_Age'].mean()\n",
    "df['Delivery_person_Age'] = df['Delivery_person_Age'].fillna(int(Average_age))"
   ]
  },
  {
   "cell_type": "code",
   "execution_count": 6,
   "metadata": {},
   "outputs": [],
   "source": [
    "#Convert 'Delivery_person_Ratings' to numeric\n",
    "df['Delivery_person_Ratings'] = pd.to_numeric(df['Delivery_person_Ratings'], errors='coerce')\n",
    "\n",
    "#Replace null values in 'Delivery_person_Ratings' with average(1 decimal point)\n",
    "Average_rating = df['Delivery_person_Ratings'].mean()\n",
    "df['Delivery_person_Ratings'] = df['Delivery_person_Ratings'].fillna(round(Average_rating, 1))"
   ]
  },
  {
   "cell_type": "code",
   "execution_count": 11,
   "metadata": {},
   "outputs": [],
   "source": [
    "#Convert 'Delivery_person_Ratings' to numeric\n",
    "df['multiple_deliveries'] = pd.to_numeric(df['multiple_deliveries'], errors='coerce')\n",
    "\n",
    "#Replace null values with the most frequent value which is the mode of the data\n",
    "most_frequent_value = df['multiple_deliveries'].mode()[0]\n",
    "df['multiple_deliveries'] = df['multiple_deliveries'].fillna(most_frequent_value)"
   ]
  },
  {
   "cell_type": "code",
   "execution_count": 13,
   "metadata": {},
   "outputs": [
    {
     "name": "stdout",
     "output_type": "stream",
     "text": [
      "        ID Delivery_person_ID  Delivery_person_Age  Delivery_person_Ratings  \\\n",
      "0  0x4607     INDORES13DEL02                  37.0                      4.9   \n",
      "1  0xb379     BANGRES18DEL02                  34.0                      4.5   \n",
      "2  0x5d6d     BANGRES19DEL01                  23.0                      4.4   \n",
      "3  0x7a6a    COIMBRES13DEL02                  38.0                      4.7   \n",
      "4  0x70a2     CHENRES12DEL01                  32.0                      4.6   \n",
      "\n",
      "   Restaurant_latitude  Restaurant_longitude  Delivery_location_latitude  \\\n",
      "0            22.745049             75.892471                   22.765049   \n",
      "1            12.913041             77.683237                   13.043041   \n",
      "2            12.914264             77.678400                   12.924264   \n",
      "3            11.003669             76.976494                   11.053669   \n",
      "4            12.972793             80.249982                   13.012793   \n",
      "\n",
      "   Delivery_location_longitude  Order_Date Time_Orderd Time_Order_picked  \\\n",
      "0                    75.912471  19-03-2022    11:30:00          11:45:00   \n",
      "1                    77.813237  25-03-2022    19:45:00          19:50:00   \n",
      "2                    77.688400  19-03-2022    08:30:00          08:45:00   \n",
      "3                    77.026494  05-04-2022    18:00:00          18:10:00   \n",
      "4                    80.289982  26-03-2022    13:30:00          13:45:00   \n",
      "\n",
      "       Weatherconditions Road_traffic_density  Vehicle_condition  \\\n",
      "0       conditions Sunny                High                   2   \n",
      "1      conditions Stormy                 Jam                   2   \n",
      "2  conditions Sandstorms                 Low                   0   \n",
      "3       conditions Sunny              Medium                   0   \n",
      "4      conditions Cloudy                High                   1   \n",
      "\n",
      "  Type_of_order Type_of_vehicle  multiple_deliveries Festival            City  \\\n",
      "0        Snack      motorcycle                   0.0      No           Urban    \n",
      "1        Snack         scooter                   1.0      No   Metropolitian    \n",
      "2       Drinks      motorcycle                   1.0      No           Urban    \n",
      "3       Buffet      motorcycle                   1.0      No   Metropolitian    \n",
      "4        Snack         scooter                   1.0      No   Metropolitian    \n",
      "\n",
      "  Time_taken(min)  \n",
      "0        (min) 24  \n",
      "1        (min) 33  \n",
      "2        (min) 26  \n",
      "3        (min) 21  \n",
      "4        (min) 30  \n"
     ]
    }
   ],
   "source": [
    "print(df.head())"
   ]
  }
 ],
 "metadata": {
  "kernelspec": {
   "display_name": "Python 3",
   "language": "python",
   "name": "python3"
  },
  "language_info": {
   "codemirror_mode": {
    "name": "ipython",
    "version": 3
   },
   "file_extension": ".py",
   "mimetype": "text/x-python",
   "name": "python",
   "nbconvert_exporter": "python",
   "pygments_lexer": "ipython3",
   "version": "3.12.5"
  }
 },
 "nbformat": 4,
 "nbformat_minor": 2
}
