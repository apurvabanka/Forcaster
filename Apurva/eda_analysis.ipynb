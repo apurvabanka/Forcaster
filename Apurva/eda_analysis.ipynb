{
 "cells": [
  {
   "cell_type": "markdown",
   "metadata": {},
   "source": [
    "# Imports"
   ]
  },
  {
   "cell_type": "code",
   "execution_count": 43,
   "metadata": {},
   "outputs": [],
   "source": [
    "import pandas as pd\n",
    "import numpy as np\n",
    "import os"
   ]
  },
  {
   "cell_type": "markdown",
   "metadata": {},
   "source": [
    "# Loading the Data"
   ]
  },
  {
   "cell_type": "code",
   "execution_count": 44,
   "metadata": {},
   "outputs": [],
   "source": [
    "extracted_dir = 'food_delivery_dataset'\n",
    "files = os.listdir(extracted_dir)\n",
    "\n",
    "csv_file_path = f\"{extracted_dir}/train.csv\"\n",
    "\n",
    "# Reading the file\n",
    "df = pd.read_csv(csv_file_path)"
   ]
  },
  {
   "cell_type": "markdown",
   "metadata": {},
   "source": [
    "# Finding he columns with NaN"
   ]
  },
  {
   "cell_type": "code",
   "execution_count": 45,
   "metadata": {},
   "outputs": [
    {
     "name": "stdout",
     "output_type": "stream",
     "text": [
      "ID                                0\n",
      "Delivery_person_ID                0\n",
      "Delivery_person_Age            1854\n",
      "Delivery_person_Ratings        1908\n",
      "Restaurant_latitude               0\n",
      "Restaurant_longitude              0\n",
      "Delivery_location_latitude        0\n",
      "Delivery_location_longitude       0\n",
      "Order_Date                        0\n",
      "Time_Orderd                    1731\n",
      "Time_Order_picked                 0\n",
      "Weatherconditions               616\n",
      "Road_traffic_density            601\n",
      "Vehicle_condition                 0\n",
      "Type_of_order                     0\n",
      "Type_of_vehicle                   0\n",
      "multiple_deliveries             993\n",
      "Festival                        228\n",
      "City                           1200\n",
      "Time_taken(min)                   0\n",
      "dtype: int64\n"
     ]
    }
   ],
   "source": [
    "# Replacing 'NaN' with NaN.\n",
    "df = df.replace('NaN', np.nan, regex=True)\n",
    "\n",
    "\n",
    "# Finding the count of NaN for each column\n",
    "print(df.isna().sum())"
   ]
  },
  {
   "cell_type": "markdown",
   "metadata": {},
   "source": [
    "As we can see here, we have Delivery_person_Age, Delivery_person_Ratings, Time_Orderd, Road_traffic_density, City and multiple_deliveries having NULL values. We need to find ways to fill the Nan cells."
   ]
  },
  {
   "cell_type": "markdown",
   "metadata": {},
   "source": [
    "# Finding the columns with Zero"
   ]
  },
  {
   "cell_type": "code",
   "execution_count": 47,
   "metadata": {},
   "outputs": [
    {
     "name": "stdout",
     "output_type": "stream",
     "text": [
      "ID                                 0\n",
      "Delivery_person_ID                 0\n",
      "Delivery_person_Age                0\n",
      "Delivery_person_Ratings            0\n",
      "Restaurant_latitude             3640\n",
      "Restaurant_longitude            3640\n",
      "Delivery_location_latitude         0\n",
      "Delivery_location_longitude        0\n",
      "Order_Date                         0\n",
      "Time_Orderd                        0\n",
      "Time_Order_picked                  0\n",
      "Weatherconditions                  0\n",
      "Road_traffic_density               0\n",
      "Vehicle_condition              15009\n",
      "Type_of_order                      0\n",
      "Type_of_vehicle                    0\n",
      "multiple_deliveries                0\n",
      "Festival                           0\n",
      "City                               0\n",
      "Time_taken(min)                    0\n",
      "dtype: int64\n"
     ]
    }
   ],
   "source": [
    "# Finding columns with count as 0.\n",
    "print((df == 0).sum())"
   ]
  },
  {
   "cell_type": "markdown",
   "metadata": {},
   "source": [
    "As we can see, Restaurant_latitude and Restaurant_longitude have zero values which is not accepted. We can ignore zeros in vehicle condition as \"0\" is one of the values of vehicle condition."
   ]
  }
 ],
 "metadata": {
  "kernelspec": {
   "display_name": ".venv",
   "language": "python",
   "name": "python3"
  },
  "language_info": {
   "codemirror_mode": {
    "name": "ipython",
    "version": 3
   },
   "file_extension": ".py",
   "mimetype": "text/x-python",
   "name": "python",
   "nbconvert_exporter": "python",
   "pygments_lexer": "ipython3",
   "version": "3.9.6"
  }
 },
 "nbformat": 4,
 "nbformat_minor": 2
}
