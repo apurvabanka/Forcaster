{
 "cells": [
  {
   "cell_type": "code",
   "execution_count": 11,
   "metadata": {},
   "outputs": [
    {
     "name": "stdout",
     "output_type": "stream",
     "text": [
      "Index(['ID', 'Delivery_person_ID', 'Delivery_person_Age',\n",
      "       'Delivery_person_Ratings', 'Restaurant_latitude',\n",
      "       'Restaurant_longitude', 'Delivery_location_latitude',\n",
      "       'Delivery_location_longitude', 'Order_Date', 'Time_Orderd',\n",
      "       'Time_Order_picked', 'Weatherconditions', 'Road_traffic_density',\n",
      "       'Vehicle_condition', 'Type_of_order', 'Type_of_vehicle',\n",
      "       'multiple_deliveries', 'Festival', 'City', 'Time_taken(min)'],\n",
      "      dtype='object')\n"
     ]
    }
   ],
   "source": [
    "import os\n",
    "import pandas as pd\n",
    "import numpy as np\n",
    "import matplotlib.pyplot  as plt\n",
    "\n",
    "extracted_dir = '../food_delivery_dataset'\n",
    "# files = os.listdir(extracted_dir)\n",
    "# print(\"Extracted files:\", files)\n",
    "\n",
    "# Step 4: Use the correct file from the extracted list\n",
    "csv_file_path = f\"{extracted_dir}/train.csv\"  # Replace with 'train.csv' since it's one of the files\n",
    "\n",
    "# Step 5: Create a DataFrame from the extracted CSV file\n",
    "df = pd.read_csv('../food_delivery_dataset/train.csv')\n",
    "\n",
    "# Display the first few rows of the DataFrame\n",
    "print(df.columns)"
   ]
  },
  {
   "cell_type": "code",
   "execution_count": 145,
   "metadata": {},
   "outputs": [],
   "source": [
    "time_taken = df['Time_taken(min)'].str.split(\" \").str[1]\n",
    "\n",
    "time_taken = pd.DataFrame(time_taken)\n",
    "\n",
    "time_taken[\"Time_taken(min)\"] = time_taken[\"Time_taken(min)\"].astype(int)"
   ]
  },
  {
   "cell_type": "code",
   "execution_count": 146,
   "metadata": {},
   "outputs": [
    {
     "name": "stdout",
     "output_type": "stream",
     "text": [
      "Time_taken(min)    54\n",
      "dtype: int64\n",
      "Time_taken(min)    10\n",
      "dtype: int64\n"
     ]
    }
   ],
   "source": [
    "print(time_taken.max())\n",
    "print(time_taken.min())"
   ]
  },
  {
   "cell_type": "code",
   "execution_count": 147,
   "metadata": {},
   "outputs": [
    {
     "data": {
      "text/html": [
       "<div>\n",
       "<style scoped>\n",
       "    .dataframe tbody tr th:only-of-type {\n",
       "        vertical-align: middle;\n",
       "    }\n",
       "\n",
       "    .dataframe tbody tr th {\n",
       "        vertical-align: top;\n",
       "    }\n",
       "\n",
       "    .dataframe thead th {\n",
       "        text-align: right;\n",
       "    }\n",
       "</style>\n",
       "<table border=\"1\" class=\"dataframe\">\n",
       "  <thead>\n",
       "    <tr style=\"text-align: right;\">\n",
       "      <th></th>\n",
       "      <th>Time_taken(min)</th>\n",
       "      <th>interval</th>\n",
       "    </tr>\n",
       "  </thead>\n",
       "  <tbody>\n",
       "    <tr>\n",
       "      <th>0</th>\n",
       "      <td>24</td>\n",
       "      <td>(20, 30]</td>\n",
       "    </tr>\n",
       "    <tr>\n",
       "      <th>1</th>\n",
       "      <td>33</td>\n",
       "      <td>(30, 40]</td>\n",
       "    </tr>\n",
       "    <tr>\n",
       "      <th>2</th>\n",
       "      <td>26</td>\n",
       "      <td>(20, 30]</td>\n",
       "    </tr>\n",
       "    <tr>\n",
       "      <th>3</th>\n",
       "      <td>21</td>\n",
       "      <td>(20, 30]</td>\n",
       "    </tr>\n",
       "    <tr>\n",
       "      <th>4</th>\n",
       "      <td>30</td>\n",
       "      <td>(20, 30]</td>\n",
       "    </tr>\n",
       "    <tr>\n",
       "      <th>...</th>\n",
       "      <td>...</td>\n",
       "      <td>...</td>\n",
       "    </tr>\n",
       "    <tr>\n",
       "      <th>45588</th>\n",
       "      <td>32</td>\n",
       "      <td>(30, 40]</td>\n",
       "    </tr>\n",
       "    <tr>\n",
       "      <th>45589</th>\n",
       "      <td>36</td>\n",
       "      <td>(30, 40]</td>\n",
       "    </tr>\n",
       "    <tr>\n",
       "      <th>45590</th>\n",
       "      <td>16</td>\n",
       "      <td>(10, 20]</td>\n",
       "    </tr>\n",
       "    <tr>\n",
       "      <th>45591</th>\n",
       "      <td>26</td>\n",
       "      <td>(20, 30]</td>\n",
       "    </tr>\n",
       "    <tr>\n",
       "      <th>45592</th>\n",
       "      <td>36</td>\n",
       "      <td>(30, 40]</td>\n",
       "    </tr>\n",
       "  </tbody>\n",
       "</table>\n",
       "<p>45593 rows × 2 columns</p>\n",
       "</div>"
      ],
      "text/plain": [
       "       Time_taken(min)  interval\n",
       "0                   24  (20, 30]\n",
       "1                   33  (30, 40]\n",
       "2                   26  (20, 30]\n",
       "3                   21  (20, 30]\n",
       "4                   30  (20, 30]\n",
       "...                ...       ...\n",
       "45588               32  (30, 40]\n",
       "45589               36  (30, 40]\n",
       "45590               16  (10, 20]\n",
       "45591               26  (20, 30]\n",
       "45592               36  (30, 40]\n",
       "\n",
       "[45593 rows x 2 columns]"
      ]
     },
     "execution_count": 147,
     "metadata": {},
     "output_type": "execute_result"
    }
   ],
   "source": [
    "bins = [10, 20, 30, 40, 50 , 60]\n",
    "\n",
    "time_taken['interval'] = pd.cut(time_taken[\"Time_taken(min)\"], bins)\n",
    "\n",
    "time_taken"
   ]
  },
  {
   "cell_type": "code",
   "execution_count": 148,
   "metadata": {},
   "outputs": [],
   "source": [
    "bin_count = time_taken['interval'].value_counts().sort_index()"
   ]
  },
  {
   "cell_type": "code",
   "execution_count": 149,
   "metadata": {},
   "outputs": [
    {
     "name": "stderr",
     "output_type": "stream",
     "text": [
      "/var/folders/2t/gftqwtk579jcc7_0379k_f900000gn/T/ipykernel_31004/21359329.py:3: FutureWarning: The default of observed=False is deprecated and will be changed to True in a future version of pandas. Pass observed=False to retain current behavior or observed=True to adopt the future default and silence this warning.\n",
      "  average_rating_per_interval = time_taken.groupby('interval')['rating'].mean() - 4\n"
     ]
    },
    {
     "data": {
      "text/plain": [
       "interval\n",
       "(10, 20]    0.741096\n",
       "(20, 30]    0.716612\n",
       "(30, 40]    0.383973\n",
       "(40, 50]    0.478663\n",
       "(50, 60]    0.496512\n",
       "Name: rating, dtype: float64"
      ]
     },
     "execution_count": 149,
     "metadata": {},
     "output_type": "execute_result"
    }
   ],
   "source": [
    "time_taken['rating'] = df['Delivery_person_Ratings'].astype(float)\n",
    "\n",
    "average_rating_per_interval = time_taken.groupby('interval')['rating'].mean() - 4\n",
    "\n",
    "average_rating_per_interval"
   ]
  },
  {
   "cell_type": "code",
   "execution_count": 150,
   "metadata": {},
   "outputs": [
    {
     "data": {
      "text/plain": [
       "<Axes: xlabel='interval'>"
      ]
     },
     "execution_count": 150,
     "metadata": {},
     "output_type": "execute_result"
    },
    {
     "data": {
      "image/png": "[encoded data removed]",
      "text/plain": [
       "<Figure size 1200x600 with 2 Axes>"
      ]
     },
     "metadata": {},
     "output_type": "display_data"
    }
   ],
   "source": [
    "plt.figure(figsize=(12, 6))\n",
    "plt.subplot(1, 2, 1)\n",
    "bin_count.plot(kind='bar')\n",
    "plt.subplot(1, 2, 2)\n",
    "average_rating_per_interval.plot(kind='bar', color='orange')"
   ]
  },
  {
   "cell_type": "markdown",
   "metadata": {},
   "source": [
    "Hypothesis - When the time taken for a delivery increaese the average rating decreases."
   ]
  },
  {
   "cell_type": "code",
   "execution_count": 151,
   "metadata": {},
   "outputs": [
    {
     "name": "stdout",
     "output_type": "stream",
     "text": [
      "       Restaurant_latitude  Restaurant_longitude  Delivery_location_latitude  \\\n",
      "0                22.745049             75.892471                   22.765049   \n",
      "1                12.913041             77.683237                   13.043041   \n",
      "2                12.914264             77.678400                   12.924264   \n",
      "3                11.003669             76.976494                   11.053669   \n",
      "4                12.972793             80.249982                   13.012793   \n",
      "...                    ...                   ...                         ...   \n",
      "45588            26.902328             75.794257                   26.912328   \n",
      "45589             0.000000              0.000000                    0.070000   \n",
      "45590            13.022394             80.242439                   13.052394   \n",
      "45591            11.001753             76.986241                   11.041753   \n",
      "45592            23.351058             85.325731                   23.431058   \n",
      "\n",
      "       Delivery_location_longitude  Distance_km time_taken  \n",
      "0                        75.912471     3.025149         24  \n",
      "1                        77.813237    20.183530         33  \n",
      "2                        77.688400     1.552758         26  \n",
      "3                        77.026494     7.790401         21  \n",
      "4                        80.289982     6.210138         30  \n",
      "...                            ...          ...        ...  \n",
      "45588                    75.804257     1.489846         32  \n",
      "45589                     0.070000    11.007735         36  \n",
      "45590                    80.272439     4.657195         16  \n",
      "45591                    77.026241     6.232393         26  \n",
      "45592                    85.405731    12.074396         36  \n",
      "\n",
      "[45593 rows x 6 columns]\n"
     ]
    },
    {
     "name": "stderr",
     "output_type": "stream",
     "text": [
      "/var/folders/2t/gftqwtk579jcc7_0379k_f900000gn/T/ipykernel_31004/3200280265.py:12: SettingWithCopyWarning: \n",
      "A value is trying to be set on a copy of a slice from a DataFrame.\n",
      "Try using .loc[row_indexer,col_indexer] = value instead\n",
      "\n",
      "See the caveats in the documentation: https://pandas.pydata.org/pandas-docs/stable/user_guide/indexing.html#returning-a-view-versus-a-copy\n",
      "  delivery_time_vs_distance['Distance_km'] = delivery_time_vs_distance.apply(lambda row: haversine(\n",
      "/var/folders/2t/gftqwtk579jcc7_0379k_f900000gn/T/ipykernel_31004/3200280265.py:19: SettingWithCopyWarning: \n",
      "A value is trying to be set on a copy of a slice from a DataFrame.\n",
      "Try using .loc[row_indexer,col_indexer] = value instead\n",
      "\n",
      "See the caveats in the documentation: https://pandas.pydata.org/pandas-docs/stable/user_guide/indexing.html#returning-a-view-versus-a-copy\n",
      "  delivery_time_vs_distance['time_taken'] = df['Time_taken(min)'].str.split(\" \").str[1]\n"
     ]
    }
   ],
   "source": [
    "def haversine(lat1, lon1, lat2, lon2):\n",
    "    lat1, lon1, lat2, lon2 = map(np.radians, [lat1, lon1, lat2, lon2])\n",
    "    \n",
    "    dlon = lon2 - lon1 \n",
    "    dlat = lat2 - lat1 \n",
    "    a = np.sin(dlat/2)**2 + np.cos(lat1) * np.cos(lat2) * np.sin(dlon/2)**2\n",
    "    c = 2 * np.arcsin(np.sqrt(a)) \n",
    "    r = 6371\n",
    "    return c * r\n",
    "\n",
    "delivery_time_vs_distance = df[['Restaurant_latitude','Restaurant_longitude', 'Delivery_location_latitude','Delivery_location_longitude']]\n",
    "delivery_time_vs_distance['Distance_km'] = delivery_time_vs_distance.apply(lambda row: haversine(\n",
    "    row['Restaurant_latitude'], \n",
    "    row['Restaurant_longitude'], \n",
    "    row['Delivery_location_latitude'], \n",
    "    row['Delivery_location_longitude']\n",
    "), axis=1)\n",
    "\n",
    "delivery_time_vs_distance['time_taken'] = df['Time_taken(min)'].str.split(\" \").str[1]\n",
    "\n",
    "print(delivery_time_vs_distance)"
   ]
  },
  {
   "cell_type": "code",
   "execution_count": 152,
   "metadata": {},
   "outputs": [
    {
     "name": "stderr",
     "output_type": "stream",
     "text": [
      "/var/folders/2t/gftqwtk579jcc7_0379k_f900000gn/T/ipykernel_31004/924855879.py:7: UserWarning: Could not infer format, so each element will be parsed individually, falling back to `dateutil`. To ensure parsing is consistent and as-expected, please specify a format.\n",
      "  df_dropped['Time_Order_picked'] = pd.to_datetime(df_dropped['Time_Order_picked'])\n",
      "/var/folders/2t/gftqwtk579jcc7_0379k_f900000gn/T/ipykernel_31004/924855879.py:7: SettingWithCopyWarning: \n",
      "A value is trying to be set on a copy of a slice from a DataFrame.\n",
      "Try using .loc[row_indexer,col_indexer] = value instead\n",
      "\n",
      "See the caveats in the documentation: https://pandas.pydata.org/pandas-docs/stable/user_guide/indexing.html#returning-a-view-versus-a-copy\n",
      "  df_dropped['Time_Order_picked'] = pd.to_datetime(df_dropped['Time_Order_picked'])\n",
      "/var/folders/2t/gftqwtk579jcc7_0379k_f900000gn/T/ipykernel_31004/924855879.py:8: UserWarning: Could not infer format, so each element will be parsed individually, falling back to `dateutil`. To ensure parsing is consistent and as-expected, please specify a format.\n",
      "  df_dropped['Time_Orderd'] = pd.to_datetime(df_dropped['Time_Orderd'])\n",
      "/var/folders/2t/gftqwtk579jcc7_0379k_f900000gn/T/ipykernel_31004/924855879.py:8: SettingWithCopyWarning: \n",
      "A value is trying to be set on a copy of a slice from a DataFrame.\n",
      "Try using .loc[row_indexer,col_indexer] = value instead\n",
      "\n",
      "See the caveats in the documentation: https://pandas.pydata.org/pandas-docs/stable/user_guide/indexing.html#returning-a-view-versus-a-copy\n",
      "  df_dropped['Time_Orderd'] = pd.to_datetime(df_dropped['Time_Orderd'])\n"
     ]
    }
   ],
   "source": [
    "df_replaced = df.replace('NaN', np.nan, regex=True)\n",
    "\n",
    "df_dropped = df_replaced.dropna()\n",
    "\n",
    "df_dropped.columns\n",
    "\n",
    "df_dropped['Time_Order_picked'] = pd.to_datetime(df_dropped['Time_Order_picked'])\n",
    "df_dropped['Time_Orderd'] = pd.to_datetime(df_dropped['Time_Orderd'])\n",
    "\n",
    "# df_dropped\n",
    "result = (df_dropped['Time_Order_picked'] - df_dropped['Time_Orderd']).dt.total_seconds() / 60\n",
    "\n"
   ]
  },
  {
   "cell_type": "code",
   "execution_count": 153,
   "metadata": {},
   "outputs": [
    {
     "name": "stderr",
     "output_type": "stream",
     "text": [
      "/var/folders/2t/gftqwtk579jcc7_0379k_f900000gn/T/ipykernel_31004/2077771152.py:1: SettingWithCopyWarning: \n",
      "A value is trying to be set on a copy of a slice from a DataFrame.\n",
      "Try using .loc[row_indexer,col_indexer] = value instead\n",
      "\n",
      "See the caveats in the documentation: https://pandas.pydata.org/pandas-docs/stable/user_guide/indexing.html#returning-a-view-versus-a-copy\n",
      "  delivery_time_vs_distance[\"time_taken\"] = delivery_time_vs_distance[\"time_taken\"].astype(float)\n",
      "/var/folders/2t/gftqwtk579jcc7_0379k_f900000gn/T/ipykernel_31004/2077771152.py:3: SettingWithCopyWarning: \n",
      "A value is trying to be set on a copy of a slice from a DataFrame.\n",
      "Try using .loc[row_indexer,col_indexer] = value instead\n",
      "\n",
      "See the caveats in the documentation: https://pandas.pydata.org/pandas-docs/stable/user_guide/indexing.html#returning-a-view-versus-a-copy\n",
      "  delivery_time_vs_distance[\"time_taken\"] = delivery_time_vs_distance[\"time_taken\"]\n",
      "/var/folders/2t/gftqwtk579jcc7_0379k_f900000gn/T/ipykernel_31004/2077771152.py:5: SettingWithCopyWarning: \n",
      "A value is trying to be set on a copy of a slice from a DataFrame.\n",
      "Try using .loc[row_indexer,col_indexer] = value instead\n",
      "\n",
      "See the caveats in the documentation: https://pandas.pydata.org/pandas-docs/stable/user_guide/indexing.html#returning-a-view-versus-a-copy\n",
      "  delivery_time_vs_distance['interval'] = pd.cut(delivery_time_vs_distance[\"time_taken\"], bins)\n"
     ]
    },
    {
     "data": {
      "text/html": [
       "<div>\n",
       "<style scoped>\n",
       "    .dataframe tbody tr th:only-of-type {\n",
       "        vertical-align: middle;\n",
       "    }\n",
       "\n",
       "    .dataframe tbody tr th {\n",
       "        vertical-align: top;\n",
       "    }\n",
       "\n",
       "    .dataframe thead th {\n",
       "        text-align: right;\n",
       "    }\n",
       "</style>\n",
       "<table border=\"1\" class=\"dataframe\">\n",
       "  <thead>\n",
       "    <tr style=\"text-align: right;\">\n",
       "      <th></th>\n",
       "      <th>Restaurant_latitude</th>\n",
       "      <th>Restaurant_longitude</th>\n",
       "      <th>Delivery_location_latitude</th>\n",
       "      <th>Delivery_location_longitude</th>\n",
       "      <th>Distance_km</th>\n",
       "      <th>time_taken</th>\n",
       "      <th>interval</th>\n",
       "    </tr>\n",
       "  </thead>\n",
       "  <tbody>\n",
       "    <tr>\n",
       "      <th>0</th>\n",
       "      <td>22.745049</td>\n",
       "      <td>75.892471</td>\n",
       "      <td>22.765049</td>\n",
       "      <td>75.912471</td>\n",
       "      <td>3.025149</td>\n",
       "      <td>24.0</td>\n",
       "      <td>(20, 30]</td>\n",
       "    </tr>\n",
       "    <tr>\n",
       "      <th>1</th>\n",
       "      <td>12.913041</td>\n",
       "      <td>77.683237</td>\n",
       "      <td>13.043041</td>\n",
       "      <td>77.813237</td>\n",
       "      <td>20.183530</td>\n",
       "      <td>33.0</td>\n",
       "      <td>(30, 40]</td>\n",
       "    </tr>\n",
       "    <tr>\n",
       "      <th>2</th>\n",
       "      <td>12.914264</td>\n",
       "      <td>77.678400</td>\n",
       "      <td>12.924264</td>\n",
       "      <td>77.688400</td>\n",
       "      <td>1.552758</td>\n",
       "      <td>26.0</td>\n",
       "      <td>(20, 30]</td>\n",
       "    </tr>\n",
       "    <tr>\n",
       "      <th>3</th>\n",
       "      <td>11.003669</td>\n",
       "      <td>76.976494</td>\n",
       "      <td>11.053669</td>\n",
       "      <td>77.026494</td>\n",
       "      <td>7.790401</td>\n",
       "      <td>21.0</td>\n",
       "      <td>(20, 30]</td>\n",
       "    </tr>\n",
       "    <tr>\n",
       "      <th>4</th>\n",
       "      <td>12.972793</td>\n",
       "      <td>80.249982</td>\n",
       "      <td>13.012793</td>\n",
       "      <td>80.289982</td>\n",
       "      <td>6.210138</td>\n",
       "      <td>30.0</td>\n",
       "      <td>(20, 30]</td>\n",
       "    </tr>\n",
       "    <tr>\n",
       "      <th>...</th>\n",
       "      <td>...</td>\n",
       "      <td>...</td>\n",
       "      <td>...</td>\n",
       "      <td>...</td>\n",
       "      <td>...</td>\n",
       "      <td>...</td>\n",
       "      <td>...</td>\n",
       "    </tr>\n",
       "    <tr>\n",
       "      <th>45588</th>\n",
       "      <td>26.902328</td>\n",
       "      <td>75.794257</td>\n",
       "      <td>26.912328</td>\n",
       "      <td>75.804257</td>\n",
       "      <td>1.489846</td>\n",
       "      <td>32.0</td>\n",
       "      <td>(30, 40]</td>\n",
       "    </tr>\n",
       "    <tr>\n",
       "      <th>45589</th>\n",
       "      <td>0.000000</td>\n",
       "      <td>0.000000</td>\n",
       "      <td>0.070000</td>\n",
       "      <td>0.070000</td>\n",
       "      <td>11.007735</td>\n",
       "      <td>36.0</td>\n",
       "      <td>(30, 40]</td>\n",
       "    </tr>\n",
       "    <tr>\n",
       "      <th>45590</th>\n",
       "      <td>13.022394</td>\n",
       "      <td>80.242439</td>\n",
       "      <td>13.052394</td>\n",
       "      <td>80.272439</td>\n",
       "      <td>4.657195</td>\n",
       "      <td>16.0</td>\n",
       "      <td>(10, 20]</td>\n",
       "    </tr>\n",
       "    <tr>\n",
       "      <th>45591</th>\n",
       "      <td>11.001753</td>\n",
       "      <td>76.986241</td>\n",
       "      <td>11.041753</td>\n",
       "      <td>77.026241</td>\n",
       "      <td>6.232393</td>\n",
       "      <td>26.0</td>\n",
       "      <td>(20, 30]</td>\n",
       "    </tr>\n",
       "    <tr>\n",
       "      <th>45592</th>\n",
       "      <td>23.351058</td>\n",
       "      <td>85.325731</td>\n",
       "      <td>23.431058</td>\n",
       "      <td>85.405731</td>\n",
       "      <td>12.074396</td>\n",
       "      <td>36.0</td>\n",
       "      <td>(30, 40]</td>\n",
       "    </tr>\n",
       "  </tbody>\n",
       "</table>\n",
       "<p>45593 rows × 7 columns</p>\n",
       "</div>"
      ],
      "text/plain": [
       "       Restaurant_latitude  Restaurant_longitude  Delivery_location_latitude  \\\n",
       "0                22.745049             75.892471                   22.765049   \n",
       "1                12.913041             77.683237                   13.043041   \n",
       "2                12.914264             77.678400                   12.924264   \n",
       "3                11.003669             76.976494                   11.053669   \n",
       "4                12.972793             80.249982                   13.012793   \n",
       "...                    ...                   ...                         ...   \n",
       "45588            26.902328             75.794257                   26.912328   \n",
       "45589             0.000000              0.000000                    0.070000   \n",
       "45590            13.022394             80.242439                   13.052394   \n",
       "45591            11.001753             76.986241                   11.041753   \n",
       "45592            23.351058             85.325731                   23.431058   \n",
       "\n",
       "       Delivery_location_longitude  Distance_km  time_taken  interval  \n",
       "0                        75.912471     3.025149        24.0  (20, 30]  \n",
       "1                        77.813237    20.183530        33.0  (30, 40]  \n",
       "2                        77.688400     1.552758        26.0  (20, 30]  \n",
       "3                        77.026494     7.790401        21.0  (20, 30]  \n",
       "4                        80.289982     6.210138        30.0  (20, 30]  \n",
       "...                            ...          ...         ...       ...  \n",
       "45588                    75.804257     1.489846        32.0  (30, 40]  \n",
       "45589                     0.070000    11.007735        36.0  (30, 40]  \n",
       "45590                    80.272439     4.657195        16.0  (10, 20]  \n",
       "45591                    77.026241     6.232393        26.0  (20, 30]  \n",
       "45592                    85.405731    12.074396        36.0  (30, 40]  \n",
       "\n",
       "[45593 rows x 7 columns]"
      ]
     },
     "execution_count": 153,
     "metadata": {},
     "output_type": "execute_result"
    }
   ],
   "source": [
    "delivery_time_vs_distance[\"time_taken\"] = delivery_time_vs_distance[\"time_taken\"].astype(float)\n",
    "\n",
    "delivery_time_vs_distance[\"time_taken\"] = delivery_time_vs_distance[\"time_taken\"]\n",
    "\n",
    "delivery_time_vs_distance['interval'] = pd.cut(delivery_time_vs_distance[\"time_taken\"], bins)\n",
    "\n",
    "delivery_time_vs_distance"
   ]
  },
  {
   "cell_type": "code",
   "execution_count": 154,
   "metadata": {},
   "outputs": [
    {
     "name": "stderr",
     "output_type": "stream",
     "text": [
      "/var/folders/2t/gftqwtk579jcc7_0379k_f900000gn/T/ipykernel_31004/4213815498.py:1: FutureWarning: The default of observed=False is deprecated and will be changed to True in a future version of pandas. Pass observed=False to retain current behavior or observed=True to adopt the future default and silence this warning.\n",
      "  average_distance_per_interval = delivery_time_vs_distance.groupby('interval')['Distance_km'].mean()\n"
     ]
    },
    {
     "data": {
      "text/plain": [
       "<Axes: xlabel='interval'>"
      ]
     },
     "execution_count": 154,
     "metadata": {},
     "output_type": "execute_result"
    },
    {
     "data": {
      "image/png": "[encoded data removed]",
      "text/plain": [
       "<Figure size 640x480 with 1 Axes>"
      ]
     },
     "metadata": {},
     "output_type": "display_data"
    }
   ],
   "source": [
    "average_distance_per_interval = delivery_time_vs_distance.groupby('interval')['Distance_km'].mean()\n",
    "\n",
    "\n",
    "average_distance_per_interval.plot(kind='bar')"
   ]
  }
 ],
 "metadata": {
  "kernelspec": {
   "display_name": ".venv",
   "language": "python",
   "name": "python3"
  },
  "language_info": {
   "codemirror_mode": {
    "name": "ipython",
    "version": 3
   },
   "file_extension": ".py",
   "mimetype": "text/x-python",
   "name": "python",
   "nbconvert_exporter": "python",
   "pygments_lexer": "ipython3",
   "version": "3.9.6"
  }
 },
 "nbformat": 4,
 "nbformat_minor": 2
}
