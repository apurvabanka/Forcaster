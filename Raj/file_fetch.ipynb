{
 "cells": [
  {
   "cell_type": "code",
   "execution_count": 1,
   "metadata": {},
   "outputs": [
    {
     "name": "stderr",
     "output_type": "stream",
     "text": [
      "/Users/rohitbanka/Desktop/DIC_Project/Forcaster/.venv/lib/python3.9/site-packages/urllib3/__init__.py:35: NotOpenSSLWarning: urllib3 v2 only supports OpenSSL 1.1.1+, currently the 'ssl' module is compiled with 'LibreSSL 2.8.3'. See: https://github.com/urllib3/urllib3/issues/3020\n",
      "  warnings.warn(\n"
     ]
    },
    {
     "name": "stdout",
     "output_type": "stream",
     "text": [
      "Dataset URL: https://www.kaggle.com/datasets/gauravmalik26/food-delivery-dataset\n",
      "License(s): other\n",
      "food-delivery-dataset.zip: Skipping, found more recently modified local copy (use --force to force download)\n",
      "Extracted files: ['test.csv', 'train.csv', 'Sample_Submission.csv']\n",
      "        ID Delivery_person_ID Delivery_person_Age Delivery_person_Ratings  \\\n",
      "0  0x4607     INDORES13DEL02                   37                     4.9   \n",
      "1  0xb379     BANGRES18DEL02                   34                     4.5   \n",
      "2  0x5d6d     BANGRES19DEL01                   23                     4.4   \n",
      "3  0x7a6a    COIMBRES13DEL02                   38                     4.7   \n",
      "4  0x70a2     CHENRES12DEL01                   32                     4.6   \n",
      "\n",
      "   Restaurant_latitude  Restaurant_longitude  Delivery_location_latitude  \\\n",
      "0            22.745049             75.892471                   22.765049   \n",
      "1            12.913041             77.683237                   13.043041   \n",
      "2            12.914264             77.678400                   12.924264   \n",
      "3            11.003669             76.976494                   11.053669   \n",
      "4            12.972793             80.249982                   13.012793   \n",
      "\n",
      "   Delivery_location_longitude  Order_Date Time_Orderd Time_Order_picked  \\\n",
      "0                    75.912471  19-03-2022    11:30:00          11:45:00   \n",
      "1                    77.813237  25-03-2022    19:45:00          19:50:00   \n",
      "2                    77.688400  19-03-2022    08:30:00          08:45:00   \n",
      "3                    77.026494  05-04-2022    18:00:00          18:10:00   \n",
      "4                    80.289982  26-03-2022    13:30:00          13:45:00   \n",
      "\n",
      "       Weatherconditions Road_traffic_density  Vehicle_condition  \\\n",
      "0       conditions Sunny                High                   2   \n",
      "1      conditions Stormy                 Jam                   2   \n",
      "2  conditions Sandstorms                 Low                   0   \n",
      "3       conditions Sunny              Medium                   0   \n",
      "4      conditions Cloudy                High                   1   \n",
      "\n",
      "  Type_of_order Type_of_vehicle multiple_deliveries Festival            City  \\\n",
      "0        Snack      motorcycle                    0      No           Urban    \n",
      "1        Snack         scooter                    1      No   Metropolitian    \n",
      "2       Drinks      motorcycle                    1      No           Urban    \n",
      "3       Buffet      motorcycle                    1      No   Metropolitian    \n",
      "4        Snack         scooter                    1      No   Metropolitian    \n",
      "\n",
      "  Time_taken(min)  \n",
      "0        (min) 24  \n",
      "1        (min) 33  \n",
      "2        (min) 26  \n",
      "3        (min) 21  \n",
      "4        (min) 30  \n"
     ]
    }
   ],
   "source": [
    "import os\n",
    "import zipfile\n",
    "import pandas as pd\n",
    "\n",
    "# Step 1: Download the dataset from Kaggle\n",
    "os.system('kaggle datasets download -d gauravmalik26/food-delivery-dataset')\n",
    "\n",
    "# Step 2: Extract the ZIP file\n",
    "with zipfile.ZipFile('food-delivery-dataset.zip', 'r') as zip_ref:\n",
    "    zip_ref.extractall('food_delivery_dataset')\n",
    "\n",
    "# Step 3: List the files in the extracted directory to find the correct CSV file name\n",
    "extracted_dir = 'food_delivery_dataset'\n",
    "files = os.listdir(extracted_dir)\n",
    "print(\"Extracted files:\", files)\n",
    "\n",
    "# Step 4: Use the correct file from the extracted list\n",
    "csv_file_path = f\"{extracted_dir}/train.csv\"  # Replace with 'train.csv' since it's one of the files\n",
    "\n",
    "# Step 5: Create a DataFrame from the extracted CSV file\n",
    "df = pd.read_csv(csv_file_path)\n",
    "\n",
    "# Display the first few rows of the DataFrame\n",
    "print(df.head())\n"
   ]
  },
  {
   "cell_type": "code",
   "execution_count": null,
   "metadata": {},
   "outputs": [],
   "source": []
  }
 ],
 "metadata": {
  "kernelspec": {
   "display_name": "Python 3",
   "language": "python",
   "name": "python3"
  },
  "language_info": {
   "codemirror_mode": {
    "name": "ipython",
    "version": 3
   },
   "file_extension": ".py",
   "mimetype": "text/x-python",
   "name": "python",
   "nbconvert_exporter": "python",
   "pygments_lexer": "ipython3",
   "version": "3.9.6"
  }
 },
 "nbformat": 4,
 "nbformat_minor": 2
}
